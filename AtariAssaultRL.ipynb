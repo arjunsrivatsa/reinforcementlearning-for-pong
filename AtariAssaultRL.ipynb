{
 "cells": [
  {
   "cell_type": "code",
   "execution_count": 63,
   "metadata": {},
   "outputs": [],
   "source": [
    "#Importing the necessary packages\n",
    "import gym \n",
    "import tensorflow as tf \n",
    "import numpy as np \n",
    "import random \n",
    "import matplotlib.pyplot as plt"
   ]
  },
  {
   "cell_type": "code",
   "execution_count": 64,
   "metadata": {},
   "outputs": [
    {
     "name": "stdout",
     "output_type": "stream",
     "text": [
      "Discrete(7)\n",
      "Box(250, 160, 3)\n"
     ]
    }
   ],
   "source": [
    "env = gym.make('Assault-v0')\n",
    "print(env.action_space)\n",
    "print(env.observation_space)"
   ]
  },
  {
   "cell_type": "code",
   "execution_count": 65,
   "metadata": {},
   "outputs": [],
   "source": [
    "class ExperienceBuffer: \n",
    "    \n",
    "    def __init__(self): \n",
    "        self.buffer = []\n",
    "        self.buffer_capacity = 1000000\n",
    "        self.current_length = 0\n",
    "    def write(self, obs): \n",
    "        if self.current_length == self.buffer_capacity: \n",
    "            self.buffer.pop()\n",
    "            self.current_length -= 1\n",
    "        self.buffer.append(obs)\n",
    "        self.current_length +=1\n",
    "    def sample_buffer(self, batch_to_sample): \n",
    "        return random.sample(self.buffer, min(batch_to_sample, self.current_length))\n",
    "    def get_capacity(self): \n",
    "        return self.current_length"
   ]
  },
  {
   "cell_type": "code",
   "execution_count": 66,
   "metadata": {},
   "outputs": [],
   "source": [
    "class Network:\n",
    "    \n",
    "    def __init__(self, session , n_out):\n",
    "        self.session = session\n",
    "        self.n_out = n_out\n",
    "        # data placeholders\n",
    "        self.x = tf.placeholder(tf.float32, [None, 4, 200, 100])\n",
    "        self.tp = tf.transpose(self.x, perm = [0,2,3,1])\n",
    "        self.y = tf.placeholder(tf.float32, [None, n_out], name='y')\n",
    "        self.conv_1 = tf.layers.conv2d(self.tp, filters = 32, kernel_size = 8, strides = 4, activation = tf.nn.relu)\n",
    "        self.conv_2 = tf.layers.conv2d(self.conv_1, filters = 64, kernel_size = 4, strides = 2, activation = tf.nn.relu)\n",
    "        #self.max_pool_1 = tf.layers.MaxPooling2D(pool_size = 2, strides = 2)\n",
    "        self.flat_layer = tf.layers.flatten(self.conv_2)\n",
    "        self.bottleneck_layer = tf.layers.dense(self.flat_layer, 512)\n",
    "        self.q = tf.layers.dense(self.bottleneck_layer, n_out)\n",
    "        #COULD BE BUGGY!\n",
    "        self.loss = tf.reduce_sum(tf.square(self.y - self.q))\n",
    "        self.train_step = tf.train.AdamOptimizer(1e-4).minimize(self.loss)\n",
    "    def compute(self, input_frames):\n",
    "        # evaluate the network and return the action values [q(s,a=0),q(s,a=1)]\n",
    "        return self.session.run(self.q, feed_dict={self.x:input_frames})\n",
    "    def train(self, x_batch, y_batch): \n",
    "            _ = self.session.run(self.train_step, feed_dict={self.x: x_batch, self.y: y_batch})"
   ]
  },
  {
   "cell_type": "code",
   "execution_count": 67,
   "metadata": {},
   "outputs": [],
   "source": [
    "class ReshapeImage: \n",
    "    #Source for data processing: this is also the same as the openAI baseline https://github.com/fg91/Deep-Q-Learning/blob/master/DQN.ipynb\n",
    "    def __init__(self, target_height = 200, target_width = 100):\n",
    "        self.target_height = target_height\n",
    "        self.target_width = target_width\n",
    "        self.input_rgb_image = tf.placeholder(shape = [4,250,160,3], dtype = tf.uint8)\n",
    "        self.grayscale_img = tf.image.rgb_to_grayscale(self.input_rgb_image)\n",
    "        self.bounded_img = tf.image.crop_to_bounding_box(self.grayscale_img, 34, 0, 160, 160)\n",
    "        self.final_processed = tf.image.resize_images(self.bounded_img, \n",
    "                                                [self.target_height, self.target_width], \n",
    "                                                method=tf.image.ResizeMethod.NEAREST_NEIGHBOR)\n",
    "    def return_processed_img(self, session, input_img):\n",
    "        return session.run(self.final_processed, feed_dict = {self.input_rgb_image: input_img})"
   ]
  },
  {
   "cell_type": "code",
   "execution_count": 68,
   "metadata": {},
   "outputs": [],
   "source": [
    "class Agent: \n",
    "    \n",
    "    def __init__(self, session, policy): \n",
    "        #Want a pretty high gamma at first\n",
    "        self.gamma = 0.99\n",
    "        #Want pure exploration at first \n",
    "        self.epsilon = 1.0\n",
    "        #want massive adjustments to Q function at first\n",
    "        self.alpha = 1.0\n",
    "        #There are six possible outputs\n",
    "        self.n_out = 7\n",
    "        #Tune this\n",
    "        self.batch_size = 32\n",
    "        self.total_reward = 0\n",
    "        self.policy = policy\n",
    "        self.session = session\n",
    "        self.experience_buffer = ExperienceBuffer()\n",
    "        self.q = Network(session, self.n_out)\n",
    "        self.image_reshaper = ReshapeImage()\n",
    "    def get_action(self, observation): \n",
    "        if self.policy == 'DQN':\n",
    "            if np.random.randn() > self.epsilon: \n",
    "                #reshaped_obs = self.image_reshaper.return_processed_img(self.session, observation)\n",
    "                #need to fix this to feed in 4 stacked frames\n",
    "               # pos = np.argmax(self.q.compute(reshaped_obs), axis = 1)\n",
    "                #return pos[0];\n",
    "                print('use dqn')\n",
    "                processed_obv = self.image_reshaper.return_processed_img(self.session, observation)\n",
    "                processed_obv = np.squeeze(processed_obv)\n",
    "                padded_processed = np.expand_dims(processed_obv, axis = 0)\n",
    "                action_values = self.q.compute(padded_processed)\n",
    "                max_action = np.argmax(action_values, axis = 1)\n",
    "                return max_action[0]\n",
    "            else: \n",
    "                print('chose randomly')\n",
    "                return random.randint(0,6)\n",
    "        if self.policy == \"dqn_test\": \n",
    "                #print('use blt in q function')\n",
    "                processed_obv = self.image_reshaper.return_processed_img(self.session, observation)\n",
    "                processed_obv = np.squeeze(processed_obv)\n",
    "                padded_processed = np.expand_dims(processed_obv, axis = 0)\n",
    "                action_values = self.q.compute(padded_processed)\n",
    "                max_action = np.argmax(action_values, axis = 1)\n",
    "                return max_action[0]\n",
    "    def adjust_epsilon(self, episode_number):\n",
    "        self.epsilon = 0.01 + (1.0 - 0.01)*np.exp(-.003*episode_number)\n",
    "    def get_epsilon(self):\n",
    "        return self.epsilon\n",
    "    def gather_buffer_exp(self, last_obs, action, reward, obs): \n",
    "        processed_obv = self.image_reshaper.return_processed_img(self.session, obs)\n",
    "        processed_obv = np.squeeze(processed_obv)\n",
    "        processed_last_obv = self.image_reshaper.return_processed_img(self.session, last_obs)\n",
    "        processed_last_obv = np.squeeze(processed_last_obv)\n",
    "        self.experience_buffer.write((processed_last_obv, action, reward, processed_obv))\n",
    "    def gather_reward(self, reward): \n",
    "        self.total_reward += reward\n",
    "    def get_total_reward(self): \n",
    "        return self.total_reward\n",
    "    def set_reward(self, new_reward): \n",
    "        self.total_reward = new_reward\n",
    "    def return_buffer_size(self): \n",
    "        return self.experience_buffer.get_capacity()\n",
    "    def update_q(self): \n",
    "        #PRETTY SURE THIS IS BUSTED BUT FIX LATER!\n",
    "        self.sars_buffer = self.experience_buffer.sample_buffer(self.batch_size)\n",
    "        the_x_batch = np.zeros(shape = (np.shape(self.sars_buffer)[0], 4,200,100))\n",
    "        the_y_batch = np.zeros(shape = (np.shape(self.sars_buffer)[0], self.n_out))\n",
    "        last_stateq = np.zeros(shape = (np.shape(self.sars_buffer)[0], self.n_out))\n",
    "        next_q = np.zeros(shape = (np.shape(self.sars_buffer)[0], self.n_out))\n",
    "        for i in range(np.shape(self.sars_buffer)[0]):\n",
    "            padded_processed = np.expand_dims(self.sars_buffer[i][0], axis = 0)\n",
    "            p2 = np.expand_dims(self.sars_buffer[i][3], axis = 0)\n",
    "            last_stateq[i, :] = self.q.compute(padded_processed)\n",
    "            next_q[i,:] = self.q.compute(p2)\n",
    "        for i in range(np.shape(self.sars_buffer)[0]): \n",
    "            the_x_batch[i, :] = self.sars_buffer[i][0]\n",
    "            for j in range(7): \n",
    "                if j == self.sars_buffer[i][1]:\n",
    "                     #action we need to update\n",
    "                    the_y_batch[i, j] = self.sars_buffer[i][2] + self.gamma * np.max(next_q[i])\n",
    "                else: \n",
    "                     #use the previous q value\n",
    "                    the_y_batch[i,j] = last_stateq[i,j]\n",
    "                    \n",
    "        self.q.train(the_x_batch, the_y_batch)"
   ]
  },
  {
   "cell_type": "code",
   "execution_count": null,
   "metadata": {},
   "outputs": [
    {
     "name": "stdout",
     "output_type": "stream",
     "text": [
      "starting episodes\n",
      "epsilon1.0\n",
      "(4, 250, 160, 3)\n",
      "chose randomly\n",
      "(4, 200, 100, 1)\n",
      "(4, 200, 100)\n"
     ]
    },
    {
     "data": {
      "image/png": "[encoded data removed]",
      "text/plain": [
       "<Figure size 432x288 with 1 Axes>"
      ]
     },
     "metadata": {},
     "output_type": "display_data"
    },
    {
     "name": "stdout",
     "output_type": "stream",
     "text": [
      "(4, 250, 160, 3)\n",
      "the reward at stage 0 was 0.0 and the action was 4, during episode 0\n",
      "chose randomly\n",
      "(4, 200, 100, 1)\n",
      "(4, 200, 100)\n"
     ]
    },
    {
     "data": {
      "image/png": "[encoded data removed]",
      "text/plain": [
       "<Figure size 432x288 with 1 Axes>"
      ]
     },
     "metadata": {},
     "output_type": "display_data"
    },
    {
     "name": "stdout",
     "output_type": "stream",
     "text": [
      "(4, 250, 160, 3)\n",
      "use dqn\n",
      "(4, 200, 100, 1)\n",
      "(4, 200, 100)\n"
     ]
    },
    {
     "data": {
      "image/png": "[encoded data removed]",
      "text/plain": [
       "<Figure size 432x288 with 1 Axes>"
      ]
     },
     "metadata": {},
     "output_type": "display_data"
    },
    {
     "name": "stdout",
     "output_type": "stream",
     "text": [
      "(4, 250, 160, 3)\n",
      "chose randomly\n",
      "(4, 200, 100, 1)\n",
      "(4, 200, 100)\n"
     ]
    },
    {
     "data": {
      "image/png": "[encoded data removed]",
      "text/plain": [
       "<Figure size 432x288 with 1 Axes>"
      ]
     },
     "metadata": {},
     "output_type": "display_data"
    },
    {
     "name": "stdout",
     "output_type": "stream",
     "text": [
      "(4, 250, 160, 3)\n",
      "chose randomly\n",
      "(4, 200, 100, 1)\n",
      "(4, 200, 100)\n"
     ]
    },
    {
     "data": {
      "image/png": "[encoded data removed]",
      "text/plain": [
       "<Figure size 432x288 with 1 Axes>"
      ]
     },
     "metadata": {},
     "output_type": "display_data"
    },
    {
     "name": "stdout",
     "output_type": "stream",
     "text": [
      "(4, 250, 160, 3)\n",
      "use dqn\n",
      "(4, 200, 100, 1)\n",
      "(4, 200, 100)\n"
     ]
    },
    {
     "data": {
      "image/png": "[encoded data removed]",
      "text/plain": [
       "<Figure size 432x288 with 1 Axes>"
      ]
     },
     "metadata": {},
     "output_type": "display_data"
    },
    {
     "name": "stdout",
     "output_type": "stream",
     "text": [
      "(4, 250, 160, 3)\n",
      "use dqn\n",
      "(4, 200, 100, 1)\n",
      "(4, 200, 100)\n"
     ]
    },
    {
     "data": {
      "image/png": "[encoded data removed]",
      "text/plain": [
       "<Figure size 432x288 with 1 Axes>"
      ]
     },
     "metadata": {},
     "output_type": "display_data"
    },
    {
     "name": "stdout",
     "output_type": "stream",
     "text": [
      "(4, 250, 160, 3)\n",
      "chose randomly\n",
      "(4, 200, 100, 1)\n",
      "(4, 200, 100)\n"
     ]
    },
    {
     "data": {
      "image/png": "[encoded data removed]",
      "text/plain": [
       "<Figure size 432x288 with 1 Axes>"
      ]
     },
     "metadata": {},
     "output_type": "display_data"
    },
    {
     "name": "stdout",
     "output_type": "stream",
     "text": [
      "(4, 250, 160, 3)\n",
      "use dqn\n",
      "(4, 200, 100, 1)\n",
      "(4, 200, 100)\n"
     ]
    },
    {
     "data": {
      "image/png": "[encoded data removed]",
      "text/plain": [
       "<Figure size 432x288 with 1 Axes>"
      ]
     },
     "metadata": {},
     "output_type": "display_data"
    },
    {
     "name": "stdout",
     "output_type": "stream",
     "text": [
      "(4, 250, 160, 3)\n",
      "use dqn\n",
      "(4, 200, 100, 1)\n",
      "(4, 200, 100)\n"
     ]
    },
    {
     "data": {
      "image/png": "[encoded data removed]",
      "text/plain": [
       "<Figure size 432x288 with 1 Axes>"
      ]
     },
     "metadata": {},
     "output_type": "display_data"
    },
    {
     "name": "stdout",
     "output_type": "stream",
     "text": [
      "(4, 250, 160, 3)\n",
      "chose randomly\n",
      "(4, 200, 100, 1)\n",
      "(4, 200, 100)\n"
     ]
    },
    {
     "data": {
      "image/png": "[encoded data removed]",
      "text/plain": [
       "<Figure size 432x288 with 1 Axes>"
      ]
     },
     "metadata": {},
     "output_type": "display_data"
    },
    {
     "name": "stdout",
     "output_type": "stream",
     "text": [
      "(4, 250, 160, 3)\n",
      "the reward at stage 10 was 0.0 and the action was 0, during episode 0\n",
      "chose randomly\n",
      "(4, 200, 100, 1)\n",
      "(4, 200, 100)\n"
     ]
    },
    {
     "data": {
      "image/png": "[encoded data removed]",
      "text/plain": [
       "<Figure size 432x288 with 1 Axes>"
      ]
     },
     "metadata": {},
     "output_type": "display_data"
    },
    {
     "name": "stdout",
     "output_type": "stream",
     "text": [
      "(4, 250, 160, 3)\n",
      "chose randomly\n",
      "(4, 200, 100, 1)\n",
      "(4, 200, 100)\n"
     ]
    },
    {
     "data": {
      "image/png": "[encoded data removed]",
      "text/plain": [
       "<Figure size 432x288 with 1 Axes>"
      ]
     },
     "metadata": {},
     "output_type": "display_data"
    },
    {
     "name": "stdout",
     "output_type": "stream",
     "text": [
      "(4, 250, 160, 3)\n",
      "chose randomly\n",
      "(4, 200, 100, 1)\n",
      "(4, 200, 100)\n"
     ]
    },
    {
     "data": {
      "image/png": "[encoded data removed]",
      "text/plain": [
       "<Figure size 432x288 with 1 Axes>"
      ]
     },
     "metadata": {},
     "output_type": "display_data"
    },
    {
     "name": "stdout",
     "output_type": "stream",
     "text": [
      "(4, 250, 160, 3)\n",
      "chose randomly\n",
      "(4, 200, 100, 1)\n",
      "(4, 200, 100)\n"
     ]
    },
    {
     "data": {
      "image/png": "[encoded data removed]",
      "text/plain": [
       "<Figure size 432x288 with 1 Axes>"
      ]
     },
     "metadata": {},
     "output_type": "display_data"
    },
    {
     "name": "stdout",
     "output_type": "stream",
     "text": [
      "(4, 250, 160, 3)\n",
      "chose randomly\n",
      "(4, 200, 100, 1)\n",
      "(4, 200, 100)\n"
     ]
    },
    {
     "data": {
      "image/png": "[encoded data removed]",
      "text/plain": [
       "<Figure size 432x288 with 1 Axes>"
      ]
     },
     "metadata": {},
     "output_type": "display_data"
    },
    {
     "name": "stdout",
     "output_type": "stream",
     "text": [
      "(4, 250, 160, 3)\n",
      "chose randomly\n",
      "(4, 200, 100, 1)\n",
      "(4, 200, 100)\n"
     ]
    },
    {
     "data": {
      "image/png": "[encoded data removed]",
      "text/plain": [
       "<Figure size 432x288 with 1 Axes>"
      ]
     },
     "metadata": {},
     "output_type": "display_data"
    },
    {
     "name": "stdout",
     "output_type": "stream",
     "text": [
      "(4, 250, 160, 3)\n",
      "chose randomly\n",
      "(4, 200, 100, 1)\n",
      "(4, 200, 100)\n"
     ]
    },
    {
     "data": {
      "image/png": "[encoded data removed]",
      "text/plain": [
       "<Figure size 432x288 with 1 Axes>"
      ]
     },
     "metadata": {},
     "output_type": "display_data"
    },
    {
     "name": "stdout",
     "output_type": "stream",
     "text": [
      "(4, 250, 160, 3)\n",
      "use dqn\n",
      "(4, 200, 100, 1)\n",
      "(4, 200, 100)\n"
     ]
    },
    {
     "data": {
      "image/png": "[encoded data removed]",
      "text/plain": [
       "<Figure size 432x288 with 1 Axes>"
      ]
     },
     "metadata": {},
     "output_type": "display_data"
    },
    {
     "name": "stdout",
     "output_type": "stream",
     "text": [
      "(4, 250, 160, 3)\n",
      "chose randomly\n",
      "(4, 200, 100, 1)\n",
      "(4, 200, 100)\n"
     ]
    },
    {
     "data": {
      "image/png": "[encoded data removed]",
      "text/plain": [
       "<Figure size 432x288 with 1 Axes>"
      ]
     },
     "metadata": {},
     "output_type": "display_data"
    },
    {
     "name": "stdout",
     "output_type": "stream",
     "text": [
      "(4, 250, 160, 3)\n",
      "use dqn\n",
      "(4, 200, 100, 1)\n",
      "(4, 200, 100)\n"
     ]
    },
    {
     "data": {
      "image/png": "[encoded data removed]",
      "text/plain": [
       "<Figure size 432x288 with 1 Axes>"
      ]
     },
     "metadata": {},
     "output_type": "display_data"
    },
    {
     "name": "stdout",
     "output_type": "stream",
     "text": [
      "(4, 250, 160, 3)\n",
      "the reward at stage 20 was 0.0 and the action was 1, during episode 0\n",
      "chose randomly\n",
      "(4, 200, 100, 1)\n",
      "(4, 200, 100)\n"
     ]
    },
    {
     "data": {
      "image/png": "[encoded data removed]",
      "text/plain": [
       "<Figure size 432x288 with 1 Axes>"
      ]
     },
     "metadata": {},
     "output_type": "display_data"
    },
    {
     "name": "stdout",
     "output_type": "stream",
     "text": [
      "(4, 250, 160, 3)\n",
      "use dqn\n",
      "(4, 200, 100, 1)\n",
      "(4, 200, 100)\n"
     ]
    },
    {
     "data": {
      "image/png": "[encoded data removed]",
      "text/plain": [
       "<Figure size 432x288 with 1 Axes>"
      ]
     },
     "metadata": {},
     "output_type": "display_data"
    },
    {
     "name": "stdout",
     "output_type": "stream",
     "text": [
      "(4, 250, 160, 3)\n",
      "chose randomly\n",
      "(4, 200, 100, 1)\n",
      "(4, 200, 100)\n"
     ]
    },
    {
     "data": {
      "image/png": "[encoded data removed]",
      "text/plain": [
       "<Figure size 432x288 with 1 Axes>"
      ]
     },
     "metadata": {},
     "output_type": "display_data"
    },
    {
     "name": "stdout",
     "output_type": "stream",
     "text": [
      "(4, 250, 160, 3)\n",
      "use dqn\n",
      "(4, 200, 100, 1)\n",
      "(4, 200, 100)\n"
     ]
    },
    {
     "data": {
      "image/png": "[encoded data removed]",
      "text/plain": [
       "<Figure size 432x288 with 1 Axes>"
      ]
     },
     "metadata": {},
     "output_type": "display_data"
    },
    {
     "name": "stdout",
     "output_type": "stream",
     "text": [
      "(4, 250, 160, 3)\n",
      "use dqn\n",
      "(4, 200, 100, 1)\n",
      "(4, 200, 100)\n"
     ]
    },
    {
     "data": {
      "image/png": "[encoded data removed]",
      "text/plain": [
       "<Figure size 432x288 with 1 Axes>"
      ]
     },
     "metadata": {},
     "output_type": "display_data"
    },
    {
     "name": "stdout",
     "output_type": "stream",
     "text": [
      "(4, 250, 160, 3)\n",
      "chose randomly\n",
      "(4, 200, 100, 1)\n",
      "(4, 200, 100)\n"
     ]
    },
    {
     "data": {
      "image/png": "[encoded data removed]",
      "text/plain": [
       "<Figure size 432x288 with 1 Axes>"
      ]
     },
     "metadata": {},
     "output_type": "display_data"
    },
    {
     "name": "stdout",
     "output_type": "stream",
     "text": [
      "(4, 250, 160, 3)\n",
      "chose randomly\n",
      "(4, 200, 100, 1)\n",
      "(4, 200, 100)\n"
     ]
    },
    {
     "data": {
      "image/png": "[encoded data removed]",
      "text/plain": [
       "<Figure size 432x288 with 1 Axes>"
      ]
     },
     "metadata": {},
     "output_type": "display_data"
    },
    {
     "name": "stdout",
     "output_type": "stream",
     "text": [
      "(4, 250, 160, 3)\n",
      "use dqn\n",
      "(4, 200, 100, 1)\n",
      "(4, 200, 100)\n"
     ]
    },
    {
     "data": {
      "image/png": "[encoded data removed]",
      "text/plain": [
       "<Figure size 432x288 with 1 Axes>"
      ]
     },
     "metadata": {},
     "output_type": "display_data"
    },
    {
     "name": "stdout",
     "output_type": "stream",
     "text": [
      "(4, 250, 160, 3)\n",
      "chose randomly\n",
      "(4, 200, 100, 1)\n",
      "(4, 200, 100)\n"
     ]
    },
    {
     "data": {
      "image/png": "[encoded data removed]",
      "text/plain": [
       "<Figure size 432x288 with 1 Axes>"
      ]
     },
     "metadata": {},
     "output_type": "display_data"
    },
    {
     "name": "stdout",
     "output_type": "stream",
     "text": [
      "(4, 250, 160, 3)\n",
      "chose randomly\n",
      "(4, 200, 100, 1)\n",
      "(4, 200, 100)\n"
     ]
    },
    {
     "data": {
      "image/png": "[encoded data removed]",
      "text/plain": [
       "<Figure size 432x288 with 1 Axes>"
      ]
     },
     "metadata": {},
     "output_type": "display_data"
    },
    {
     "name": "stdout",
     "output_type": "stream",
     "text": [
      "(4, 250, 160, 3)\n",
      "the reward at stage 30 was 0.0 and the action was 4, during episode 0\n",
      "chose randomly\n",
      "(4, 200, 100, 1)\n",
      "(4, 200, 100)\n"
     ]
    },
    {
     "data": {
      "image/png": "[encoded data removed]",
      "text/plain": [
       "<Figure size 432x288 with 1 Axes>"
      ]
     },
     "metadata": {},
     "output_type": "display_data"
    },
    {
     "name": "stdout",
     "output_type": "stream",
     "text": [
      "(4, 250, 160, 3)\n",
      "chose randomly\n",
      "(4, 200, 100, 1)\n",
      "(4, 200, 100)\n"
     ]
    },
    {
     "data": {
      "image/png": "[encoded data removed]",
      "text/plain": [
       "<Figure size 432x288 with 1 Axes>"
      ]
     },
     "metadata": {},
     "output_type": "display_data"
    },
    {
     "name": "stdout",
     "output_type": "stream",
     "text": [
      "(4, 250, 160, 3)\n",
      "use dqn\n",
      "(4, 200, 100, 1)\n",
      "(4, 200, 100)\n"
     ]
    },
    {
     "data": {
      "image/png": "[encoded data removed]",
      "text/plain": [
       "<Figure size 432x288 with 1 Axes>"
      ]
     },
     "metadata": {},
     "output_type": "display_data"
    },
    {
     "name": "stdout",
     "output_type": "stream",
     "text": [
      "(4, 250, 160, 3)\n",
      "chose randomly\n",
      "(4, 200, 100, 1)\n",
      "(4, 200, 100)\n"
     ]
    },
    {
     "data": {
      "image/png": "[encoded data removed]",
      "text/plain": [
       "<Figure size 432x288 with 1 Axes>"
      ]
     },
     "metadata": {},
     "output_type": "display_data"
    },
    {
     "name": "stdout",
     "output_type": "stream",
     "text": [
      "(4, 250, 160, 3)\n",
      "chose randomly\n",
      "(4, 200, 100, 1)\n",
      "(4, 200, 100)\n"
     ]
    },
    {
     "data": {
      "image/png": "[encoded data removed]",
      "text/plain": [
       "<Figure size 432x288 with 1 Axes>"
      ]
     },
     "metadata": {},
     "output_type": "display_data"
    },
    {
     "name": "stdout",
     "output_type": "stream",
     "text": [
      "(4, 250, 160, 3)\n",
      "chose randomly\n",
      "(4, 200, 100, 1)\n",
      "(4, 200, 100)\n"
     ]
    },
    {
     "data": {
      "image/png": "[encoded data removed]",
      "text/plain": [
       "<Figure size 432x288 with 1 Axes>"
      ]
     },
     "metadata": {},
     "output_type": "display_data"
    },
    {
     "name": "stdout",
     "output_type": "stream",
     "text": [
      "(4, 250, 160, 3)\n",
      "chose randomly\n",
      "(4, 200, 100, 1)\n",
      "(4, 200, 100)\n"
     ]
    },
    {
     "data": {
      "image/png": "[encoded data removed]",
      "text/plain": [
       "<Figure size 432x288 with 1 Axes>"
      ]
     },
     "metadata": {},
     "output_type": "display_data"
    },
    {
     "name": "stdout",
     "output_type": "stream",
     "text": [
      "(4, 250, 160, 3)\n",
      "chose randomly\n",
      "(4, 200, 100, 1)\n",
      "(4, 200, 100)\n"
     ]
    },
    {
     "data": {
      "image/png": "[encoded data removed]",
      "text/plain": [
       "<Figure size 432x288 with 1 Axes>"
      ]
     },
     "metadata": {},
     "output_type": "display_data"
    },
    {
     "name": "stdout",
     "output_type": "stream",
     "text": [
      "(4, 250, 160, 3)\n",
      "chose randomly\n",
      "(4, 200, 100, 1)\n",
      "(4, 200, 100)\n"
     ]
    },
    {
     "data": {
      "image/png": "[encoded data removed]",
      "text/plain": [
       "<Figure size 432x288 with 1 Axes>"
      ]
     },
     "metadata": {},
     "output_type": "display_data"
    },
    {
     "name": "stdout",
     "output_type": "stream",
     "text": [
      "(4, 250, 160, 3)\n",
      "chose randomly\n",
      "(4, 200, 100, 1)\n",
      "(4, 200, 100)\n"
     ]
    },
    {
     "data": {
      "image/png": "[encoded data removed]",
      "text/plain": [
       "<Figure size 432x288 with 1 Axes>"
      ]
     },
     "metadata": {},
     "output_type": "display_data"
    },
    {
     "name": "stdout",
     "output_type": "stream",
     "text": [
      "(4, 250, 160, 3)\n",
      "the reward at stage 40 was 0.0 and the action was 5, during episode 0\n",
      "chose randomly\n",
      "(4, 200, 100, 1)\n",
      "(4, 200, 100)\n"
     ]
    },
    {
     "data": {
      "image/png": "[encoded data removed]",
      "text/plain": [
       "<Figure size 432x288 with 1 Axes>"
      ]
     },
     "metadata": {},
     "output_type": "display_data"
    },
    {
     "name": "stdout",
     "output_type": "stream",
     "text": [
      "(4, 250, 160, 3)\n",
      "chose randomly\n",
      "(4, 200, 100, 1)\n",
      "(4, 200, 100)\n"
     ]
    },
    {
     "data": {
      "image/png": "[encoded data removed]",
      "text/plain": [
       "<Figure size 432x288 with 1 Axes>"
      ]
     },
     "metadata": {},
     "output_type": "display_data"
    },
    {
     "name": "stdout",
     "output_type": "stream",
     "text": [
      "(4, 250, 160, 3)\n",
      "chose randomly\n",
      "(4, 200, 100, 1)\n",
      "(4, 200, 100)\n"
     ]
    },
    {
     "data": {
      "image/png": "[encoded data removed]",
      "text/plain": [
       "<Figure size 432x288 with 1 Axes>"
      ]
     },
     "metadata": {},
     "output_type": "display_data"
    },
    {
     "name": "stdout",
     "output_type": "stream",
     "text": [
      "(4, 250, 160, 3)\n"
     ]
    }
   ],
   "source": [
    "#Code to test the actual env:\n",
    "\n",
    "\n",
    "with tf.Graph().as_default():\n",
    "    with tf.Session() as session: \n",
    "        agent = Agent(session, 'DQN')\n",
    "        session.run(tf.global_variables_initializer())\n",
    "        episode_rewards = []\n",
    "        newshape = ReshapeImage()\n",
    "        for i_episode in range(800):\n",
    "            print('starting episodes')\n",
    "            the_ep = agent.get_epsilon()\n",
    "            print(\"epsilon{}\".format(the_ep))\n",
    "            observation = env.reset()\n",
    "            observation = np.stack([observation,observation,observation,observation], axis = 0)\n",
    "            print(np.shape(observation))\n",
    "            agent.set_reward(0)\n",
    "            for t in range(10000):\n",
    "                flag = True\n",
    "                env.render()\n",
    "                action = agent.get_action(observation)\n",
    "                new_observation, reward, done, info = env.step(action)\n",
    "                new_matrix = np.zeros((4,250,160,3))\n",
    "                new_matrix[0,:,:,:] = observation[1,:,:,:]\n",
    "                new_matrix[1,:,:,:] = observation[2,:,:,:]\n",
    "                new_matrix[2,:,:,:] = observation[3,:,:,:]\n",
    "                new_matrix[3,:,:,:] = new_observation\n",
    "                new_observation = new_matrix\n",
    "                #checkout how the image looks\n",
    "                new_img = newshape.return_processed_img(session,new_observation[:,:,:,:])\n",
    "                print(np.shape(new_img))\n",
    "                new_img = np.squeeze(new_img)\n",
    "                print(np.shape(new_img))\n",
    "                plt.imshow(new_img[3,:,:])\n",
    "                plt.show()\n",
    "                print(np.shape(new_observation))\n",
    "                \n",
    "                if done: \n",
    "                    new_observation = None\n",
    "                    flag = False\n",
    "                if (t % 10 == 0):\n",
    "                    print(\"the reward at stage {} was {} and the action was {}, during episode {}\".format(t, reward, action,i_episode))\n",
    "                agent.gather_reward(reward)\n",
    "                if flag: \n",
    "                    agent.gather_buffer_exp(observation, action, reward, new_observation)\n",
    "                agent.update_q()\n",
    "                observation = new_observation\n",
    "                if done:\n",
    "                    the_ep_reward = agent.get_total_reward()\n",
    "                    print(\"Episode {} finished after {} timesteps with total reward {}\".format(i_episode, t+1, agent.get_total_reward()))\n",
    "                    episode_rewards.append(the_ep_reward)\n",
    "                    print(\"current buffer size is {}\".format(agent.return_buffer_size()))\n",
    "                    break\n",
    "            agent.adjust_epsilon(i_episode)\n",
    "            if(i_episode % 10 == 0):\n",
    "                plt.plot(episode_rewards)\n",
    "                plt.show()\n",
    "       \n",
    "    \n",
    "    \n",
    "    \n",
    "    #Testing learned function\n",
    "        \n",
    "        \n",
    "        \n",
    "        \n",
    "        \n",
    "        episode_rewards = []\n",
    "        for (i_ep) in range(51):\n",
    "            agent.adjust_epsilon(0)\n",
    "            agent.set_reward(0)\n",
    "            observation = env.reset()\n",
    "            observation = np.stack([observation,observation,observation,observation], axis = 0)\n",
    "            for t in range(10000):\n",
    "                flag = True\n",
    "                env.render()\n",
    "                action = agent.get_action(observation)\n",
    "                new_observation, reward, done, info = env.step(0)\n",
    "                new_matrix = np.zeros((4,250,160,3))\n",
    "                new_matrix[0,:,:,:] = observation[1,:,:,:]\n",
    "                new_matrix[1,:,:,:] = observation[2,:,:,:]\n",
    "                new_matrix[2,:,:,:] = observation[3,:,:,:]\n",
    "                new_matrix[3,:,:,:] = new_observation\n",
    "                new_observation = new_matrix\n",
    "                #checkout how the image looks\n",
    "                #new_img = newshape.return_processed_img(session,new_observation[:,:,:,:])\n",
    "                #print(np.shape(new_img))\n",
    "                #new_img = np.squeeze(new_img)\n",
    "                #print(np.shape(new_img))\n",
    "                #plt.imshow(new_img[3,:,:])\n",
    "                #plt.show()\n",
    "                #print(np.shape(new_observation))\n",
    "                \n",
    "                if done: \n",
    "                    new_observation = None\n",
    "                    flag = False\n",
    "                if (t % 500 == 0):\n",
    "                    print(\"the reward at stage {} was {} and the action was {}, during episode {}\".format(t, reward, action,i_ep))\n",
    "                agent.gather_reward(reward)\n",
    "                #if flag: \n",
    "                #    agent.gather_buffer_exp(observation, action, reward, new_observation)\n",
    "                #agent.update_q()\n",
    "                observation = new_observation\n",
    "                if done:\n",
    "                    the_ep_reward = agent.get_total_reward()\n",
    "                    print(\"Episode {} finished after {} timesteps with total reward {}\".format(i_ep, t+1, agent.get_total_reward()))\n",
    "                    episode_rewards.append(the_ep_reward)\n",
    "                    print(\"current buffer size is {}\".format(agent.return_buffer_size()))\n",
    "                    break\n",
    "        if(i_ep % 10 == 0):\n",
    "                plt.plot(episode_rewards)\n",
    "                plt.show()\n",
    "#plt.plot(episode_rewards)\n",
    "#plt.show()"
   ]
  },
  {
   "cell_type": "code",
   "execution_count": null,
   "metadata": {},
   "outputs": [],
   "source": []
  },
  {
   "cell_type": "code",
   "execution_count": null,
   "metadata": {},
   "outputs": [],
   "source": []
  }
 ],
 "metadata": {
  "kernelspec": {
   "display_name": "Python 3",
   "language": "python",
   "name": "python3"
  },
  "language_info": {
   "codemirror_mode": {
    "name": "ipython",
    "version": 3
   },
   "file_extension": ".py",
   "mimetype": "text/x-python",
   "name": "python",
   "nbconvert_exporter": "python",
   "pygments_lexer": "ipython3",
   "version": "3.6.5"
  }
 },
 "nbformat": 4,
 "nbformat_minor": 2
}
